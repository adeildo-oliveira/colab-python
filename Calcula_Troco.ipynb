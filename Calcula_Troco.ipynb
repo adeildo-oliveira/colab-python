{
  "nbformat": 4,
  "nbformat_minor": 0,
  "metadata": {
    "colab": {
      "name": "Calcula_Troco.ipynb",
      "provenance": [],
      "collapsed_sections": [],
      "authorship_tag": "ABX9TyMrgcULmcPVQKJaiwTJVGh+",
      "include_colab_link": true
    },
    "kernelspec": {
      "name": "python3",
      "display_name": "Python 3"
    },
    "language_info": {
      "name": "python"
    }
  },
  "cells": [
    {
      "cell_type": "markdown",
      "metadata": {
        "id": "view-in-github",
        "colab_type": "text"
      },
      "source": [
        "<a href=\"https://colab.research.google.com/github/adeildo-oliveira/colab-python/blob/main/Calcula_Troco.ipynb\" target=\"_parent\"><img src=\"https://colab.research.google.com/assets/colab-badge.svg\" alt=\"Open In Colab\"/></a>"
      ]
    },
    {
      "cell_type": "code",
      "source": [
        "CEDULAS = [0.05, 0.10, 0.25, 0.50, 1, 2, 5, 10, 20, 50, 100, 200]"
      ],
      "metadata": {
        "id": "FAI5UK9oP4sx"
      },
      "execution_count": 66,
      "outputs": []
    },
    {
      "cell_type": "code",
      "execution_count": 62,
      "metadata": {
        "id": "_JMmiYaENuGU"
      },
      "outputs": [],
      "source": [
        "def maior_valor(entrada, custo):\n",
        "\n",
        "  troco = entrada - custo\n",
        "  index = len(CEDULAS) - 1\n",
        "  cedulas_selecionadas = []\n",
        "  print(f\"TROCO INICIAL: {troco}\")\n",
        "\n",
        "  while index > -1:\n",
        "    if troco == 0.00:\n",
        "      break\n",
        "    elif troco / CEDULAS[index] >= 1:\n",
        "      cedulas_selecionadas.append(CEDULAS[index])\n",
        "      print(f\"TROCO: {troco} CEDULA: {CEDULAS[index]}\")\n",
        "      troco = troco - CEDULAS[index]\n",
        "\n",
        "      index += ler_cedula_novamente(troco, CEDULAS[index])\n",
        "    \n",
        "    index -= 1\n",
        "  \n",
        "  return cedulas_selecionadas\n",
        "\n",
        "def ler_cedula_novamente(troco, cedula):\n",
        "  if troco >= cedula:\n",
        "    return 1\n",
        "  else:\n",
        "    return 0"
      ]
    },
    {
      "cell_type": "code",
      "source": [
        "result = maior_valor(100, 40)\n",
        "\n",
        "f\"TROCO: {sum(result)} - CÉDULAS: {result}\""
      ],
      "metadata": {
        "colab": {
          "base_uri": "https://localhost:8080/",
          "height": 89
        },
        "id": "-iVWitMSPw8P",
        "outputId": "8c4cf870-f151-4a71-8e38-8f25c74a3cef"
      },
      "execution_count": 73,
      "outputs": [
        {
          "output_type": "stream",
          "name": "stdout",
          "text": [
            "TROCO INICIAL: 60\n",
            "TROCO: 10 CEDULA: 50\n",
            "TROCO: 0 CEDULA: 10\n"
          ]
        },
        {
          "output_type": "execute_result",
          "data": {
            "text/plain": [
              "'TROCO: 60 - CÉDULAS: [50, 10]'"
            ],
            "application/vnd.google.colaboratory.intrinsic+json": {
              "type": "string"
            }
          },
          "metadata": {},
          "execution_count": 73
        }
      ]
    },
    {
      "cell_type": "code",
      "source": [
        "result = maior_valor(100, 20)\n",
        "\n",
        "f\"TROCO: {sum(result)} - CÉDULAS: {result}\""
      ],
      "metadata": {
        "colab": {
          "base_uri": "https://localhost:8080/",
          "height": 106
        },
        "id": "V9sBZmQeVxqE",
        "outputId": "3013cef1-8e6a-4af2-ab74-94ecd912bced"
      },
      "execution_count": 74,
      "outputs": [
        {
          "output_type": "stream",
          "name": "stdout",
          "text": [
            "TROCO INICIAL: 80\n",
            "TROCO: 30 CEDULA: 50\n",
            "TROCO: 10 CEDULA: 20\n",
            "TROCO: 0 CEDULA: 10\n"
          ]
        },
        {
          "output_type": "execute_result",
          "data": {
            "text/plain": [
              "'TROCO: 80 - CÉDULAS: [50, 20, 10]'"
            ],
            "application/vnd.google.colaboratory.intrinsic+json": {
              "type": "string"
            }
          },
          "metadata": {},
          "execution_count": 74
        }
      ]
    },
    {
      "cell_type": "code",
      "source": [
        "result = maior_valor(100, 10.50)\n",
        "\n",
        "f\"TROCO: {sum(result)} - CÉDULAS: {result}\""
      ],
      "metadata": {
        "colab": {
          "base_uri": "https://localhost:8080/",
          "height": 178
        },
        "id": "KG1Ia7L4IVPc",
        "outputId": "25f7ecea-f546-4113-e7bf-788466bac0a2"
      },
      "execution_count": 75,
      "outputs": [
        {
          "output_type": "stream",
          "name": "stdout",
          "text": [
            "TROCO INICIAL: 89.5\n",
            "TROCO: 39.5 CEDULA: 50\n",
            "TROCO: 19.5 CEDULA: 20\n",
            "TROCO: 9.5 CEDULA: 10\n",
            "TROCO: 4.5 CEDULA: 5\n",
            "TROCO: 2.5 CEDULA: 2\n",
            "TROCO: 0.5 CEDULA: 2\n",
            "TROCO: 0.0 CEDULA: 0.5\n"
          ]
        },
        {
          "output_type": "execute_result",
          "data": {
            "text/plain": [
              "'TROCO: 89.5 - CÉDULAS: [50, 20, 10, 5, 2, 2, 0.5]'"
            ],
            "application/vnd.google.colaboratory.intrinsic+json": {
              "type": "string"
            }
          },
          "metadata": {},
          "execution_count": 75
        }
      ]
    }
  ]
}